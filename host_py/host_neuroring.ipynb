{
 "cells": [
  {
   "cell_type": "code",
   "execution_count": 1,
   "id": "a8e25cbd",
   "metadata": {},
   "outputs": [
    {
     "name": "stderr",
     "output_type": "stream",
     "text": [
      "XRT build version: 2.18.179\n",
      "Build hash: 3ade2e671e5ab463400813fc2846c57edf82bb10\n",
      "Build date: 2024-11-05 13:57:47\n",
      "Git branch: 2024.2\n",
      "PID: 1334157\n",
      "UID: 1031\n",
      "[Mon Aug 25 05:04:51 2025 GMT]\n",
      "HOST: cyberdeck\n",
      "EXE: /usr/bin/orted\n",
      "[XRT] ERROR: clGetDeviceInfo: invalid param_name\n",
      "[XRT] ERROR: clGetDeviceInfo: invalid param_name\n",
      "[XRT] ERROR: clGetDeviceInfo: invalid param_name\n",
      "[XRT] ERROR: clGetDeviceInfo: invalid param_name\n",
      "[XRT] ERROR: clGetDeviceInfo: invalid param_name\n",
      "[XRT] ERROR: clGetDeviceInfo: invalid param_name\n",
      "[XRT] ERROR: clGetDeviceInfo: invalid param_name\n",
      "[XRT] ERROR: clGetDeviceInfo: invalid param_name\n",
      "[XRT] ERROR: clGetDeviceInfo: invalid param_name\n",
      "[XRT] ERROR: clGetDeviceInfo: invalid param_name\n",
      "[XRT] ERROR: clGetDeviceInfo: invalid param_name\n",
      "[XRT] ERROR: clGetDeviceInfo: invalid param_name\n",
      "XRT build version: 2.18.179\n",
      "Build hash: 3ade2e671e5ab463400813fc2846c57edf82bb10\n",
      "Build date: 2024-11-05 13:57:47\n",
      "Git branch: 2024.2\n",
      "PID: 1333442\n",
      "UID: 1031\n",
      "[Mon Aug 25 05:04:51 2025 GMT]\n",
      "HOST: cyberdeck\n",
      "EXE: /usr/bin/python3.10\n",
      "[XRT] ERROR: clGetDeviceInfo: invalid param_name\n",
      "[XRT] ERROR: clGetDeviceInfo: invalid param_name\n",
      "[XRT] ERROR: clGetDeviceInfo: invalid param_name\n",
      "[XRT] ERROR: clGetDeviceInfo: invalid param_name\n",
      "[XRT] ERROR: clGetDeviceInfo: invalid param_name\n",
      "[XRT] ERROR: clGetDeviceInfo: invalid param_name\n"
     ]
    },
    {
     "name": "stdout",
     "output_type": "stream",
     "text": [
      "\n",
      "              -- N E S T --\n",
      "  Copyright (C) 2004 The NEST Initiative\n",
      "\n",
      " Version: 3.8.0\n",
      " Built: Jan 27 2025 08:18:03\n",
      "\n",
      " This program is provided AS IS and comes with\n",
      " NO WARRANTY. See the file LICENSE for details.\n",
      "\n",
      " Problems or suggestions?\n",
      "   Visit https://www.nest-simulator.org\n",
      "\n",
      " Type 'nest.help()' to find out more about NEST.\n",
      "\n"
     ]
    },
    {
     "name": "stderr",
     "output_type": "stream",
     "text": [
      "/home/miahafiz/.local/lib/python3.10/site-packages/pandas/core/computation/expressions.py:21: UserWarning:Pandas requires version '2.8.4' or newer of 'numexpr' (version '2.8.1' currently installed).\n",
      "/home/miahafiz/.local/lib/python3.10/site-packages/pandas/core/arrays/masked.py:60: UserWarning:Pandas requires version '1.3.6' or newer of 'bottleneck' (version '1.3.2' currently installed).\n",
      "/home/miahafiz/.local/lib/python3.10/site-packages/matplotlib/projections/__init__.py:63: UserWarning:Unable to import Axes3D. This may be due to multiple versions of Matplotlib being installed (e.g. as a system package and as a pip package). As a result, the 3D projection is not available.\n",
      "/home/miahafiz/NeuroRing/host_py/network.py:210: UserWarning:DC input created to compensate missing Poisson input.\n",
      "\n"
     ]
    },
    {
     "name": "stdout",
     "output_type": "stream",
     "text": [
      "Data will be written to: /home/miahafiz/NeuroRing/host_py/data/\n",
      "  Directory already existed. Old data will be overwritten.\n",
      "\n",
      "Neuron numbers are scaled by a factor of 0.040.\n",
      "Indegrees are scaled by a factor of 0.040.\n",
      "  Weights and DC input are adjusted to compensate.\n",
      "\n",
      "RNG seed: 55\n",
      "Total number of virtual processes: 4\n",
      "Creating neuronal populations.\n",
      "\n",
      "Aug 25 07:04:54 SimulationManager::set_status [Info]: \n",
      "    Temporal resolution changed from 0.1 to 0.1 ms.\n",
      "Creating DC generators for external stimulation.\n",
      "Connecting neuronal populations recurrently.\n",
      "Connecting DC generators.\n",
      "\n",
      "Aug 25 07:04:54 NodeManager::prepare_nodes [Info]: \n",
      "    Preparing 3119 nodes for simulation.\n",
      "[NodeCollection(metadata=None, model=iaf_psc_exp, size=827, first=1, last=827), NodeCollection(metadata=None, model=iaf_psc_exp, size=233, first=828, last=1060), NodeCollection(metadata=None, model=iaf_psc_exp, size=877, first=1061, last=1937), NodeCollection(metadata=None, model=iaf_psc_exp, size=219, first=1938, last=2156), NodeCollection(metadata=None, model=iaf_psc_exp, size=194, first=2157, last=2350), NodeCollection(metadata=None, model=iaf_psc_exp, size=43, first=2351, last=2393), NodeCollection(metadata=None, model=iaf_psc_exp, size=576, first=2394, last=2969), NodeCollection(metadata=None, model=iaf_psc_exp, size=118, first=2970, last=3087)]\n"
     ]
    }
   ],
   "source": [
    "import os\n",
    "import sys\n",
    "import pyxrt\n",
    "import contextlib\n",
    "from neuroring import NeuroRingHost, NeuroRingKernel\n",
    "import nest\n",
    "import network\n",
    "import numpy as np\n",
    "from network_params import net_dict\n",
    "from sim_params import sim_dict\n",
    "from stimulus_params import stim_dict\n",
    "from utils_binding import Options  # Ensure this module provides .index and .bitstreamFile\n",
    "\n",
    "net = network.Network(sim_dict, net_dict, stim_dict)\n",
    "net.create()\n",
    "net.connect()\n",
    "\n",
    "print(net.pops)"
   ]
  },
  {
   "cell_type": "code",
   "execution_count": 2,
   "id": "15a77f90",
   "metadata": {},
   "outputs": [
    {
     "name": "stdout",
     "output_type": "stream",
     "text": [
      "Extracting synapse information...\n",
      "Total neurons: 3087\n",
      "Total synapses: 478210\n",
      "Neurons with synapses: 3087\n",
      "Debug: num_compute_units=2, num_fpgas=1\n",
      "Debug: cus_per_fpga=[2]\n",
      "Distribution across 1 FPGAs:\n",
      "  FPGA 0: 2 compute units\n",
      "    CU 0: neurons 1-2048 (2048 neurons, 342323 synapses)\n",
      "    CU 1: neurons 2049-3087 (1039 neurons, 135887 synapses)\n"
     ]
    }
   ],
   "source": [
    "host = NeuroRingHost(net, 2, 1, \"/home/miahafiz/NeuroRing/krnl_neuroring_hw.xclbin\")\n"
   ]
  },
  {
   "cell_type": "code",
   "execution_count": 3,
   "id": "110e4ed5",
   "metadata": {},
   "outputs": [
    {
     "name": "stdout",
     "output_type": "stream",
     "text": [
      "Initialized device 0 with XCLBIN UUID: 86426671-f207-ff39-aee2-8fe160ec8db1\n",
      "threshold: -50.0\n",
      "membrane_potential: -65.0\n",
      "dcstim_amp: 263.93025301905396\n",
      "{'simulation_time': 1, 'threshold': 3259498496, 'membrane_potential': 3263299584, 'amount_of_cores': 2, 'neuron_start': 1, 'neuron_total': 2048, 'dcstim_start': 0, 'dcstim_total': 1000, 'dcstim_amp': 1132721939, 'device': None, 'xclbin': None, 'uuid': None, 'kernel_name': None, 'kernel': None, 'synapseListHandle': None, 'header_words': 7680000, 'header_bytes': 30720000, 'tail_words_capacity': 20480000, 'tail_bytes_capacity': 81920000, 'bo_size': 112640000, 'core_id': 0}\n",
      "Initialized kernel NeuroRing:{NeuroRing_0} and AxonLoader:{AxonLoader_0} on device <pyxrt.device object at 0x7f7b6f1aee70>\n",
      "Allocated BO of 112640000 bytes (header 30720000, tail 81920000)\n",
      "threshold: -50.0\n",
      "membrane_potential: -65.0\n",
      "dcstim_amp: 263.93025301905396\n",
      "{'simulation_time': 1, 'threshold': 3259498496, 'membrane_potential': 3263299584, 'amount_of_cores': 2, 'neuron_start': 2049, 'neuron_total': 1039, 'dcstim_start': 0, 'dcstim_total': 1000, 'dcstim_amp': 1132721939, 'device': None, 'xclbin': None, 'uuid': None, 'kernel_name': None, 'kernel': None, 'synapseListHandle': None, 'header_words': 7680000, 'header_bytes': 30720000, 'tail_words_capacity': 20480000, 'tail_bytes_capacity': 81920000, 'bo_size': 112640000, 'core_id': 1}\n",
      "Initialized kernel NeuroRing:{NeuroRing_1} and AxonLoader:{AxonLoader_1} on device <pyxrt.device object at 0x7f7b6f1aee70>\n",
      "Allocated BO of 112640000 bytes (header 30720000, tail 81920000)\n"
     ]
    }
   ],
   "source": [
    "host.initialize_devices()"
   ]
  },
  {
   "cell_type": "code",
   "execution_count": 4,
   "id": "317c0761",
   "metadata": {},
   "outputs": [
    {
     "name": "stdout",
     "output_type": "stream",
     "text": [
      "[[2249, 2097, 7, 391.87352261821695, 4], [2249, 2164, 24, 425.3623531082611, 4], [2249, 2167, 20, 388.43550541066486, 4], [2249, 2178, 7, 535.8749194391241, 4], [2249, 2191, 17, 458.7370631768077, 4], [2249, 2198, 23, 394.73361061075525, 4], [2249, 2240, 9, 423.3613313646954, 4], [2249, 2241, 29, 418.5631334267888, 4], [2249, 2244, 19, 486.57938254416115, 4], [2249, 2251, 15, 460.04380709869474, 4], [2249, 2259, 10, 446.6750719490414, 4], [2249, 2260, 12, 395.5808806012678, 4], [2249, 2269, 18, 523.1310816078607, 4], [2249, 2280, 7, 418.9533475579722, 4], [2249, 2288, 17, 438.52273344109375, 4], [2249, 2291, 23, 467.80430737156877, 4], [2249, 2312, 20, 477.29262712093015, 4], [2249, 2318, 5, 387.1269000173333, 4], [2249, 2324, 7, 440.45548811538293, 4], [2249, 2331, 23, 409.9949529577168, 4], [2249, 2345, 24, 450.02573552546477, 4], [2249, 2356, 14, 452.1723299587189, 4], [2249, 2381, 22, 508.3546251938727, 4], [2249, 2395, 5, 396.0702097126234, 4], [2249, 2397, 16, 461.16521269760887, 4], [2249, 2407, 32, 512.7573437695685, 4], [2249, 2409, 16, 401.42555913646174, 4], [2249, 2467, 19, 442.45519980063636, 4], [2249, 2470, 31, 465.2929935331998, 4], [2249, 2477, 18, 461.28537456528505, 4], [2249, 2534, 7, 446.6828281029678, 4], [2249, 2565, 13, 511.1954124254999, 4], [2249, 2565, 7, 479.68033161552336, 4], [2249, 2574, 2, 456.08829647273706, 4], [2249, 2578, 14, 419.66103230711485, 4], [2249, 2583, 13, 445.2353139413557, 4], [2249, 2606, 28, 371.2620439312105, 4], [2249, 2633, 3, 420.074614083135, 4], [2249, 2654, 7, 472.3281400000889, 4], [2249, 2658, 11, 449.18981601189955, 4], [2249, 2667, 15, 494.2712901343325, 4], [2249, 2674, 9, 389.0786831234613, 4], [2249, 2696, 20, 442.29127678841604, 4], [2249, 2705, 21, 393.7140834295208, 4], [2249, 2709, 21, 399.9550173400363, 4], [2249, 2709, 19, 467.7192620668455, 4], [2249, 2737, 13, 359.32727970768485, 4], [2249, 2775, 11, 383.0657166346102, 4], [2249, 2786, 9, 434.95487851733725, 4], [2249, 2805, 12, 453.07961952942657, 4], [2249, 2809, 27, 455.59557094697817, 4], [2249, 2814, 16, 458.1655732764431, 4], [2249, 2826, 18, 405.41916439321346, 4], [2249, 2850, 24, 406.82511810362087, 4], [2249, 2860, 21, 450.8518054028965, 4], [2249, 2880, 12, 438.0856769558188, 4], [2249, 2891, 12, 426.8949918057616, 4], [2249, 2910, 19, 479.71542908397436, 4], [2249, 2914, 15, 379.1019895956595, 4], [2249, 2919, 23, 463.34246628729846, 4], [2249, 3041, 21, 538.0219303607458, 4], [2249, 3067, 15, 419.2264979523033, 4], [2249, 3, 12, 464.3595326019911, 4], [2249, 12, 3, 504.58311307650115, 4], [2249, 15, 7, 407.12310584442355, 4], [2249, 43, 7, 497.96455309410567, 4], [2249, 44, 3, 434.4870155653537, 4], [2249, 71, 26, 447.5586738210095, 4], [2249, 77, 16, 402.6304267322552, 4], [2249, 162, 17, 440.0243477256743, 4], [2249, 227, 18, 472.92140641903575, 4], [2249, 248, 5, 390.2616262415864, 4], [2249, 265, 24, 415.6229906203606, 4], [2249, 422, 9, 438.2872987959099, 4], [2249, 442, 13, 462.62590594813645, 4], [2249, 462, 12, 423.22491956454064, 4], [2249, 593, 10, 524.0210828947845, 4], [2249, 638, 4, 418.63112150351094, 4], [2249, 647, 10, 418.6501778446479, 4], [2249, 696, 21, 451.8774577591184, 4], [2249, 701, 25, 473.8038774491208, 4], [2249, 706, 17, 441.9256760326134, 4], [2249, 724, 15, 444.14367561651227, 4], [2249, 731, 16, 414.69265335755847, 4], [2249, 767, 5, 452.0902224113269, 4], [2249, 784, 22, 428.27198694147063, 4], [2249, 793, 31, 401.7398949179845, 4], [2249, 793, 9, 385.10140429990196, 4], [2249, 829, 29, 447.93109136822073, 4], [2249, 830, 14, 495.9748808063696, 4], [2249, 836, 17, 440.93707102547717, 4], [2249, 851, 8, 423.59930098462644, 4], [2249, 863, 12, 357.26627687394296, 4], [2249, 888, 15, 493.97278093207655, 4], [2249, 904, 5, 427.8489643199429, 4], [2249, 904, 15, 455.8632378301183, 4], [2249, 914, 21, 465.05537228057267, 4], [2249, 914, 31, 554.7352963352812, 4], [2249, 925, 26, 431.20102322225364, 4], [2249, 956, 24, 478.12226003324713, 4], [2249, 958, 29, 431.82509078648417, 4], [2249, 964, 17, 394.93932333332896, 4], [2249, 974, 18, 426.6205793723438, 4], [2249, 1002, 1, 451.50762380005625, 4], [2249, 1016, 10, 432.7333435210643, 4], [2249, 1030, 6, 452.117267785156, 4], [2249, 1072, 11, 421.55764273893504, 4], [2249, 1184, 10, 430.8486301651342, 4], [2249, 1217, 7, 392.5281426173604, 4], [2249, 1403, 16, 423.36627822517613, 4], [2249, 1605, 31, 351.52949535127163, 4], [2249, 1691, 14, 464.8961145663417, 4], [2249, 1898, 4, 437.5016525384514, 4], [2249, 1911, 3, 409.1273628432049, 4]]\n"
     ]
    }
   ],
   "source": [
    "print(host.synapse_per_cu[0][1][200])"
   ]
  },
  {
   "cell_type": "code",
   "execution_count": 5,
   "id": "caed88b2",
   "metadata": {},
   "outputs": [
    {
     "name": "stdout",
     "output_type": "stream",
     "text": [
      "112640000\n"
     ]
    }
   ],
   "source": [
    "spike_recorder_size = 120000 * 64\n",
    "print(host.pack_synapse_per_cu[0][0].nbytes)"
   ]
  },
  {
   "cell_type": "code",
   "execution_count": 6,
   "id": "41957ca8",
   "metadata": {},
   "outputs": [
    {
     "name": "stdout",
     "output_type": "stream",
     "text": [
      "28160000\n",
      "112640000\n"
     ]
    }
   ],
   "source": [
    "print(len(host.pack_synapse_per_cu[0][0]))\n",
    "print(host.kernels_per_fpga[0][0].total_bo_size)\n"
   ]
  },
  {
   "cell_type": "code",
   "execution_count": 4,
   "id": "bbc8ee3a",
   "metadata": {},
   "outputs": [
    {
     "name": "stdout",
     "output_type": "stream",
     "text": [
      "write done kernel <pyxrt.kernel object at 0x7f7b98ccecb0>\n",
      "Running kernel <pyxrt.kernel object at 0x7f7b98ccecb0>\n",
      "Running kernel <pyxrt.kernel object at 0x7f7b9894e770>\n",
      "write done kernel <pyxrt.kernel object at 0x7f7b98b2ccf0>\n",
      "Running kernel <pyxrt.kernel object at 0x7f7b98b2ccf0>\n",
      "Running kernel <pyxrt.kernel object at 0x7f7b98ce8530>\n",
      "Time taken: 0.15200591087341309 seconds\n"
     ]
    }
   ],
   "source": [
    "import time\n",
    "\n",
    "start_time = time.time()\n",
    "host.run_kernels(2)\n",
    "#host.wait_for_kernels(2)\n",
    "end_time = time.time()\n",
    "print(f\"Time taken: {end_time - start_time} seconds\")"
   ]
  },
  {
   "cell_type": "code",
   "execution_count": 5,
   "id": "77950cbd",
   "metadata": {},
   "outputs": [
    {
     "name": "stdout",
     "output_type": "stream",
     "text": [
      "Axon loader run complete <pyxrt.kernel object at 0x7f7b98ccecb0>\n",
      "Axon loader run complete <pyxrt.kernel object at 0x7f7b98b2ccf0>\n"
     ]
    }
   ],
   "source": [
    "host.kernels_per_fpga[0][0].wait_for_axon()\n",
    "host.kernels_per_fpga[0][1].wait_for_axon()"
   ]
  },
  {
   "cell_type": "code",
   "execution_count": null,
   "id": "04c18518",
   "metadata": {},
   "outputs": [],
   "source": [
    "host.kernels_per_fpga[0][0].wait_for_neuroring()\n",
    "host.kernels_per_fpga[0][1].wait_for_neuroring()"
   ]
  },
  {
   "cell_type": "code",
   "execution_count": null,
   "id": "39f996e3",
   "metadata": {},
   "outputs": [],
   "source": [
    "print(host.kernels_per_fpga[0][0].wait_for_kernel(0))\n",
    "print(host.kernels_per_fpga[0][1].wait_for_kernel(0))"
   ]
  },
  {
   "cell_type": "code",
   "execution_count": null,
   "id": "fb42fc2f",
   "metadata": {},
   "outputs": [],
   "source": [
    "host.save_array_to_csv(host.packed_list_per_fpga[0][0], \"Synapse_list.csv\")"
   ]
  },
  {
   "cell_type": "code",
   "execution_count": null,
   "id": "f4de8c69",
   "metadata": {},
   "outputs": [],
   "source": [
    "array = host.kernels_per_fpga[0][0].get_spike_recorder_array(10000)\n",
    "print(array)\n",
    "print(len(array))\n",
    "print(\"--------------------------------\")\n",
    "\n",
    "for i in range(len(array)):\n",
    "    if array[i] != 0:\n",
    "        print(f\"{i} {array[i]}\")"
   ]
  },
  {
   "cell_type": "code",
   "execution_count": null,
   "id": "5e8ee486",
   "metadata": {},
   "outputs": [],
   "source": [
    "print(len(host.kernels_per_fpga[0][0].synapse_list_data_final))\n",
    "print(host.packed_list_per_fpga[0][0][0:100])\n",
    "print(host.kernels_per_fpga[0][0].dcstim_amp)"
   ]
  },
  {
   "cell_type": "code",
   "execution_count": null,
   "id": "4122b1c4",
   "metadata": {},
   "outputs": [],
   "source": [
    "host.kernels_per_fpga[0][0].run_kernel(host.packed_list_per_fpga[0][0], 2)\n",
    "host.kernels_per_fpga[0][1].run_kernel(host.packed_list_per_fpga[0][1], 2)"
   ]
  },
  {
   "cell_type": "code",
   "execution_count": null,
   "id": "74f9d366",
   "metadata": {},
   "outputs": [],
   "source": [
    "host.kernels_per_fpga[0][0].wait_for_axon()\n",
    "host.kernels_per_fpga[0][1].wait_for_axon()\n",
    "host.kernels_per_fpga[0][2].wait_for_axon()\n",
    "host.kernels_per_fpga[0][3].wait_for_axon()\n"
   ]
  },
  {
   "cell_type": "code",
   "execution_count": null,
   "id": "eee368cd",
   "metadata": {},
   "outputs": [],
   "source": [
    "host.kernels_per_fpga[0][1].wait_for_axon()"
   ]
  },
  {
   "cell_type": "code",
   "execution_count": null,
   "id": "2912bae0",
   "metadata": {},
   "outputs": [],
   "source": [
    "host.kernels_per_fpga[0][0].wait_for_neuroring()\n",
    "host.kernels_per_fpga[0][1].wait_for_neuroring()\n",
    "host.kernels_per_fpga[0][2].wait_for_neuroring()\n",
    "host.kernels_per_fpga[0][3].wait_for_neuroring()"
   ]
  },
  {
   "cell_type": "code",
   "execution_count": null,
   "id": "56dd3243",
   "metadata": {},
   "outputs": [],
   "source": [
    "host.kernels_per_fpga[0][0].wait_for_neuroring()"
   ]
  },
  {
   "cell_type": "code",
   "execution_count": null,
   "id": "5daf279d",
   "metadata": {},
   "outputs": [],
   "source": []
  },
  {
   "cell_type": "code",
   "execution_count": null,
   "id": "eb2ff48c",
   "metadata": {},
   "outputs": [],
   "source": [
    "host.kernels_per_fpga[0][0].wait_for_kernel()\n",
    "print(host.kernels[0].spikeRecorder_array)\n"
   ]
  },
  {
   "cell_type": "code",
   "execution_count": null,
   "id": "f2eef095",
   "metadata": {},
   "outputs": [],
   "source": [
    "for i in range(len(host.kernels[0].spikeRecorder_array)):\n",
    "    if host.kernels[0].spikeRecorder_array[i] > 0:\n",
    "        print(i)"
   ]
  },
  {
   "cell_type": "code",
   "execution_count": null,
   "id": "ee97cf7f",
   "metadata": {},
   "outputs": [],
   "source": [
    "print(host.kernels[0].spikeRecorder_array)\n"
   ]
  },
  {
   "cell_type": "code",
   "execution_count": null,
   "id": "a74bf3cd",
   "metadata": {},
   "outputs": [],
   "source": [
    "print(host.packed_list_per_fpga[0][0][0:110])\n",
    "print(host.packed_list_per_fpga[0][0][10000:10010])"
   ]
  },
  {
   "cell_type": "code",
   "execution_count": null,
   "id": "b2f09187",
   "metadata": {},
   "outputs": [],
   "source": [
    "print(net.DC_amp)\n",
    "print(np.average(net.DC_amp))"
   ]
  },
  {
   "cell_type": "code",
   "execution_count": null,
   "id": "9d067a22",
   "metadata": {},
   "outputs": [],
   "source": [
    "print(host.kernels_per_fpga[0][1].kernel.group_id(0))\n",
    "print(host.kernels_per_fpga[0][1].kernel.group_id(1))\n"
   ]
  },
  {
   "cell_type": "code",
   "execution_count": null,
   "id": "3141a95d",
   "metadata": {},
   "outputs": [],
   "source": [
    "print(host.packed_list_per_fpga[0][0][0:10])\n",
    "print(host.packed_list_per_fpga[0][0][0+(1*10000):10+(1*10000)])\n",
    "print(host.packed_list_per_fpga[0][0][0+(2*10000):10+(2*10000)])\n",
    "print(host.packed_list_per_fpga[0][0][0+(3*10000):10+(3*10000)])\n",
    "print(host.packed_list_per_fpga[0][0][0+(4*10000):10+(4*10000)])\n",
    "print(host.packed_list_per_fpga[0][0][0+(5*10000):10+(5*10000)])\n",
    "print(host.packed_list_per_fpga[0][0][0+(6*10000):10+(6*10000)])\n",
    "print(host.packed_list_per_fpga[0][0][0+(7*10000):10+(7*10000)])\n",
    "print(host.packed_list_per_fpga[0][0][0+(8*10000):10+(8*10000)])\n",
    "print(host.packed_list_per_fpga[0][0][0+(9*10000):10+(9*10000)])\n",
    "print(host.packed_list_per_fpga[0][0][0+(10*10000):10+(10*10000)])\n",
    "print(host.packed_list_per_fpga[0][0][0+(11*10000):10+(11*10000)])\n",
    "print(host.packed_list_per_fpga[0][0][0+(12*10000):10+(12*10000)])\n",
    "print(host.packed_list_per_fpga[0][0][0+(13*10000):10+(13*10000)])\n",
    "print(host.packed_list_per_fpga[0][0][0+(14*10000):10+(14*10000)])\n",
    "print(host.packed_list_per_fpga[0][0][0+(15*10000):10+(15*10000)])\n"
   ]
  },
  {
   "cell_type": "code",
   "execution_count": null,
   "id": "c19491d2",
   "metadata": {},
   "outputs": [],
   "source": [
    "\n",
    "print(net.pops[1])"
   ]
  },
  {
   "cell_type": "code",
   "execution_count": null,
   "id": "6bbcd713",
   "metadata": {},
   "outputs": [],
   "source": []
  }
 ],
 "metadata": {
  "kernelspec": {
   "display_name": "Python 3",
   "language": "python",
   "name": "python3"
  },
  "language_info": {
   "codemirror_mode": {
    "name": "ipython",
    "version": 3
   },
   "file_extension": ".py",
   "mimetype": "text/x-python",
   "name": "python",
   "nbconvert_exporter": "python",
   "pygments_lexer": "ipython3",
   "version": "3.10.12"
  }
 },
 "nbformat": 4,
 "nbformat_minor": 5
}
