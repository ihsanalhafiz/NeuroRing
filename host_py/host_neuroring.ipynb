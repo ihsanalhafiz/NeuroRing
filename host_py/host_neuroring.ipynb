{
 "cells": [
  {
   "cell_type": "code",
   "execution_count": 1,
   "id": "a8e25cbd",
   "metadata": {},
   "outputs": [
    {
     "name": "stderr",
     "output_type": "stream",
     "text": [
      "XRT build version: 2.18.179\n",
      "Build hash: 3ade2e671e5ab463400813fc2846c57edf82bb10\n",
      "Build date: 2024-11-05 13:57:47\n",
      "Git branch: 2024.2\n",
      "PID: 597730\n",
      "UID: 1031\n",
      "[Wed Aug 20 11:57:25 2025 GMT]\n",
      "HOST: cyberdeck\n",
      "EXE: /usr/bin/orted\n",
      "[XRT] ERROR: clGetDeviceInfo: invalid param_name\n",
      "[XRT] ERROR: clGetDeviceInfo: invalid param_name\n",
      "[XRT] ERROR: clGetDeviceInfo: invalid param_name\n",
      "[XRT] ERROR: clGetDeviceInfo: invalid param_name\n",
      "[XRT] ERROR: clGetDeviceInfo: invalid param_name\n",
      "[XRT] ERROR: clGetDeviceInfo: invalid param_name\n",
      "[XRT] ERROR: clGetDeviceInfo: invalid param_name\n",
      "[XRT] ERROR: clGetDeviceInfo: invalid param_name\n",
      "[XRT] ERROR: clGetDeviceInfo: invalid param_name\n",
      "[XRT] ERROR: clGetDeviceInfo: invalid param_name\n",
      "[XRT] ERROR: clGetDeviceInfo: invalid param_name\n",
      "[XRT] ERROR: clGetDeviceInfo: invalid param_name\n",
      "XRT build version: 2.18.179\n",
      "Build hash: 3ade2e671e5ab463400813fc2846c57edf82bb10\n",
      "Build date: 2024-11-05 13:57:47\n",
      "Git branch: 2024.2\n",
      "PID: 597649\n",
      "UID: 1031\n",
      "[Wed Aug 20 11:57:26 2025 GMT]\n",
      "HOST: cyberdeck\n",
      "EXE: /usr/bin/python3.10\n",
      "[XRT] ERROR: clGetDeviceInfo: invalid param_name\n",
      "[XRT] ERROR: clGetDeviceInfo: invalid param_name\n",
      "[XRT] ERROR: clGetDeviceInfo: invalid param_name\n",
      "[XRT] ERROR: clGetDeviceInfo: invalid param_name\n",
      "[XRT] ERROR: clGetDeviceInfo: invalid param_name\n",
      "[XRT] ERROR: clGetDeviceInfo: invalid param_name\n",
      "/home/miahafiz/.local/lib/python3.10/site-packages/pandas/core/computation/expressions.py:21: UserWarning:Pandas requires version '2.8.4' or newer of 'numexpr' (version '2.8.1' currently installed).\n",
      "/home/miahafiz/.local/lib/python3.10/site-packages/pandas/core/arrays/masked.py:60: UserWarning:Pandas requires version '1.3.6' or newer of 'bottleneck' (version '1.3.2' currently installed).\n"
     ]
    },
    {
     "name": "stdout",
     "output_type": "stream",
     "text": [
      "\n",
      "              -- N E S T --\n",
      "  Copyright (C) 2004 The NEST Initiative\n",
      "\n",
      " Version: 3.8.0\n",
      " Built: Jan 27 2025 08:18:03\n",
      "\n",
      " This program is provided AS IS and comes with\n",
      " NO WARRANTY. See the file LICENSE for details.\n",
      "\n",
      " Problems or suggestions?\n",
      "   Visit https://www.nest-simulator.org\n",
      "\n",
      " Type 'nest.help()' to find out more about NEST.\n",
      "\n"
     ]
    },
    {
     "name": "stderr",
     "output_type": "stream",
     "text": [
      "/home/miahafiz/.local/lib/python3.10/site-packages/matplotlib/projections/__init__.py:63: UserWarning:Unable to import Axes3D. This may be due to multiple versions of Matplotlib being installed (e.g. as a system package and as a pip package). As a result, the 3D projection is not available.\n",
      "/home/miahafiz/NeuroRing/host_py/network.py:210: UserWarning:DC input created to compensate missing Poisson input.\n",
      "\n"
     ]
    },
    {
     "name": "stdout",
     "output_type": "stream",
     "text": [
      "Data will be written to: /home/miahafiz/NeuroRing/host_py/data/\n",
      "  Directory already existed. Old data will be overwritten.\n",
      "\n",
      "Neuron numbers are scaled by a factor of 0.010.\n",
      "Indegrees are scaled by a factor of 0.010.\n",
      "  Weights and DC input are adjusted to compensate.\n",
      "\n",
      "RNG seed: 55\n",
      "Total number of virtual processes: 4\n",
      "Creating neuronal populations.\n",
      "\n",
      "Aug 20 13:57:27 SimulationManager::set_status [Info]: \n",
      "    Temporal resolution changed from 0.1 to 0.1 ms.\n",
      "Creating recording devices.\n",
      "  Creating spike recorders.\n",
      "Creating DC generators for external stimulation.\n",
      "Connecting neuronal populations recurrently.\n",
      "Connecting DC generators.\n",
      "\n",
      "Aug 20 13:57:28 NodeManager::prepare_nodes [Info]: \n",
      "    Preparing 835 nodes for simulation.\n",
      "[NodeCollection(metadata=None, model=iaf_psc_exp, size=207, first=1, last=207), NodeCollection(metadata=None, model=iaf_psc_exp, size=58, first=208, last=265), NodeCollection(metadata=None, model=iaf_psc_exp, size=219, first=266, last=484), NodeCollection(metadata=None, model=iaf_psc_exp, size=55, first=485, last=539), NodeCollection(metadata=None, model=iaf_psc_exp, size=48, first=540, last=587), NodeCollection(metadata=None, model=iaf_psc_exp, size=11, first=588, last=598), NodeCollection(metadata=None, model=iaf_psc_exp, size=144, first=599, last=742), NodeCollection(metadata=None, model=iaf_psc_exp, size=29, first=743, last=771)]\n"
     ]
    }
   ],
   "source": [
    "import os\n",
    "import sys\n",
    "import pyxrt\n",
    "import contextlib\n",
    "from neuroring import NeuroRingHost, NeuroRingKernel\n",
    "import nest\n",
    "import network\n",
    "import numpy as np\n",
    "from network_params import net_dict\n",
    "from sim_params import sim_dict\n",
    "from stimulus_params import stim_dict\n",
    "from utils_binding import Options  # Ensure this module provides .index and .bitstreamFile\n",
    "\n",
    "net = network.Network(sim_dict, net_dict, stim_dict)\n",
    "net.create()\n",
    "net.connect()\n",
    "\n",
    "print(net.pops)"
   ]
  },
  {
   "cell_type": "code",
   "execution_count": 2,
   "id": "15a77f90",
   "metadata": {},
   "outputs": [
    {
     "name": "stdout",
     "output_type": "stream",
     "text": [
      "Extracting synapse information...\n",
      "Initialized device 0 with XCLBIN UUID: ed4759a8-983c-e7d6-879c-703a5be42805\n",
      "threshold: -50.0\n",
      "membrane_potential: -65.0\n",
      "dcstim_amp: 209.11304111722728\n",
      "{'simulation_time': 1, 'threshold': 3259498496, 'membrane_potential': 3263299584, 'amount_of_cores': 1, 'neuron_start': 1, 'neuron_total': 771, 'dcstim_start': 0, 'dcstim_total': 1000, 'dcstim_amp': 1129389296, 'device': None, 'xclbin': None, 'uuid': None, 'kernel_name': None, 'kernel': None, 'synapseListHandle': None, 'header_words': 7680000, 'header_bytes': 30720000, 'tail_words_capacity': 7710000, 'tail_bytes_capacity': 30840000, 'bo_size': 61560000}\n",
      "Initialized kernel NeuroRing:{NeuroRing_0} and AxonLoader:{AxonLoader_0} on device <pyxrt.device object at 0x7f6c5afb2270>\n",
      "Allocated BO of 61560000 bytes (header 30720000, tail 30840000)\n"
     ]
    }
   ],
   "source": [
    "host = NeuroRingHost(net, 1, 1, \"/home/miahafiz/NeuroRing/krnl_neuroring_hw.xclbin\")\n",
    "host.initialize_devices()"
   ]
  },
  {
   "cell_type": "code",
   "execution_count": 3,
   "id": "fb42fc2f",
   "metadata": {},
   "outputs": [],
   "source": [
    "host.save_array_to_csv(host.packed_list_per_fpga[0][0], \"Synapse_list.csv\")"
   ]
  },
  {
   "cell_type": "code",
   "execution_count": null,
   "id": "bbc8ee3a",
   "metadata": {},
   "outputs": [],
   "source": [
    "import time\n",
    "\n",
    "start_time = time.time()\n",
    "host.run_kernels(1000)\n",
    "host.wait_for_kernels(1000)\n",
    "end_time = time.time()\n",
    "print(f\"Time taken: {end_time - start_time} seconds\")"
   ]
  },
  {
   "cell_type": "code",
   "execution_count": null,
   "id": "f4de8c69",
   "metadata": {},
   "outputs": [],
   "source": [
    "array = host.kernels_per_fpga[0][0].get_spike_recorder_array(10000)\n",
    "print(array)\n",
    "print(len(array))\n",
    "print(\"--------------------------------\")\n",
    "\n",
    "for i in range(len(array)):\n",
    "    if array[i] != 0:\n",
    "        print(f\"{i} {array[i]}\")"
   ]
  },
  {
   "cell_type": "code",
   "execution_count": null,
   "id": "5e8ee486",
   "metadata": {},
   "outputs": [],
   "source": [
    "print(len(host.kernels_per_fpga[0][0].synapse_list_data_final))\n",
    "print(host.packed_list_per_fpga[0][0][0:100])\n",
    "print(host.kernels_per_fpga[0][0].dcstim_amp)"
   ]
  },
  {
   "cell_type": "code",
   "execution_count": null,
   "id": "4122b1c4",
   "metadata": {},
   "outputs": [],
   "source": [
    "host.kernels_per_fpga[0][0].run_kernel(host.packed_list_per_fpga[0][0], 2)\n",
    "host.kernels_per_fpga[0][1].run_kernel(host.packed_list_per_fpga[0][1], 2)"
   ]
  },
  {
   "cell_type": "code",
   "execution_count": null,
   "id": "74f9d366",
   "metadata": {},
   "outputs": [],
   "source": [
    "host.kernels_per_fpga[0][0].wait_for_axon()\n",
    "host.kernels_per_fpga[0][1].wait_for_axon()\n",
    "host.kernels_per_fpga[0][2].wait_for_axon()\n",
    "host.kernels_per_fpga[0][3].wait_for_axon()\n"
   ]
  },
  {
   "cell_type": "code",
   "execution_count": null,
   "id": "eee368cd",
   "metadata": {},
   "outputs": [],
   "source": [
    "host.kernels_per_fpga[0][1].wait_for_axon()"
   ]
  },
  {
   "cell_type": "code",
   "execution_count": null,
   "id": "2912bae0",
   "metadata": {},
   "outputs": [],
   "source": [
    "host.kernels_per_fpga[0][0].wait_for_neuroring()\n",
    "host.kernels_per_fpga[0][1].wait_for_neuroring()\n",
    "host.kernels_per_fpga[0][2].wait_for_neuroring()\n",
    "host.kernels_per_fpga[0][3].wait_for_neuroring()"
   ]
  },
  {
   "cell_type": "code",
   "execution_count": null,
   "id": "56dd3243",
   "metadata": {},
   "outputs": [],
   "source": [
    "host.kernels_per_fpga[0][0].wait_for_neuroring()"
   ]
  },
  {
   "cell_type": "code",
   "execution_count": null,
   "id": "5daf279d",
   "metadata": {},
   "outputs": [],
   "source": []
  },
  {
   "cell_type": "code",
   "execution_count": null,
   "id": "eb2ff48c",
   "metadata": {},
   "outputs": [],
   "source": [
    "host.kernels_per_fpga[0][0].wait_for_kernel()\n",
    "print(host.kernels[0].spikeRecorder_array)\n"
   ]
  },
  {
   "cell_type": "code",
   "execution_count": null,
   "id": "f2eef095",
   "metadata": {},
   "outputs": [],
   "source": [
    "for i in range(len(host.kernels[0].spikeRecorder_array)):\n",
    "    if host.kernels[0].spikeRecorder_array[i] > 0:\n",
    "        print(i)"
   ]
  },
  {
   "cell_type": "code",
   "execution_count": null,
   "id": "ee97cf7f",
   "metadata": {},
   "outputs": [],
   "source": [
    "print(host.kernels[0].spikeRecorder_array)\n"
   ]
  },
  {
   "cell_type": "code",
   "execution_count": null,
   "id": "a74bf3cd",
   "metadata": {},
   "outputs": [],
   "source": [
    "print(host.packed_list_per_fpga[0][0][0:110])\n",
    "print(host.packed_list_per_fpga[0][0][10000:10010])"
   ]
  },
  {
   "cell_type": "code",
   "execution_count": null,
   "id": "b2f09187",
   "metadata": {},
   "outputs": [],
   "source": [
    "print(net.DC_amp)\n",
    "print(np.average(net.DC_amp))"
   ]
  },
  {
   "cell_type": "code",
   "execution_count": null,
   "id": "9d067a22",
   "metadata": {},
   "outputs": [],
   "source": [
    "print(host.kernels_per_fpga[0][1].kernel.group_id(0))\n",
    "print(host.kernels_per_fpga[0][1].kernel.group_id(1))\n"
   ]
  },
  {
   "cell_type": "code",
   "execution_count": null,
   "id": "3141a95d",
   "metadata": {},
   "outputs": [],
   "source": [
    "print(host.packed_list_per_fpga[0][0][0:10])\n",
    "print(host.packed_list_per_fpga[0][0][0+(1*10000):10+(1*10000)])\n",
    "print(host.packed_list_per_fpga[0][0][0+(2*10000):10+(2*10000)])\n",
    "print(host.packed_list_per_fpga[0][0][0+(3*10000):10+(3*10000)])\n",
    "print(host.packed_list_per_fpga[0][0][0+(4*10000):10+(4*10000)])\n",
    "print(host.packed_list_per_fpga[0][0][0+(5*10000):10+(5*10000)])\n",
    "print(host.packed_list_per_fpga[0][0][0+(6*10000):10+(6*10000)])\n",
    "print(host.packed_list_per_fpga[0][0][0+(7*10000):10+(7*10000)])\n",
    "print(host.packed_list_per_fpga[0][0][0+(8*10000):10+(8*10000)])\n",
    "print(host.packed_list_per_fpga[0][0][0+(9*10000):10+(9*10000)])\n",
    "print(host.packed_list_per_fpga[0][0][0+(10*10000):10+(10*10000)])\n",
    "print(host.packed_list_per_fpga[0][0][0+(11*10000):10+(11*10000)])\n",
    "print(host.packed_list_per_fpga[0][0][0+(12*10000):10+(12*10000)])\n",
    "print(host.packed_list_per_fpga[0][0][0+(13*10000):10+(13*10000)])\n",
    "print(host.packed_list_per_fpga[0][0][0+(14*10000):10+(14*10000)])\n",
    "print(host.packed_list_per_fpga[0][0][0+(15*10000):10+(15*10000)])\n"
   ]
  },
  {
   "cell_type": "code",
   "execution_count": null,
   "id": "c19491d2",
   "metadata": {},
   "outputs": [],
   "source": [
    "\n",
    "print(net.pops[1])"
   ]
  },
  {
   "cell_type": "code",
   "execution_count": null,
   "id": "6bbcd713",
   "metadata": {},
   "outputs": [],
   "source": []
  }
 ],
 "metadata": {
  "kernelspec": {
   "display_name": "Python 3",
   "language": "python",
   "name": "python3"
  },
  "language_info": {
   "codemirror_mode": {
    "name": "ipython",
    "version": 3
   },
   "file_extension": ".py",
   "mimetype": "text/x-python",
   "name": "python",
   "nbconvert_exporter": "python",
   "pygments_lexer": "ipython3",
   "version": "3.10.12"
  }
 },
 "nbformat": 4,
 "nbformat_minor": 5
}
